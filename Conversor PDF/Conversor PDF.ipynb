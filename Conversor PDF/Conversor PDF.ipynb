{
 "cells": [
  {
   "cell_type": "code",
   "execution_count": 1,
   "metadata": {},
   "outputs": [],
   "source": [
    "import glob, PyPDF2, re\n",
    "\n",
    "caminho = input(r'Informe a pasta dos arquivos: ')\n",
    "arquivos = glob.glob(caminho + \"/*.pdf\")\n",
    "\n",
    "with open('Extração.txt' , 'a', encoding='utf-8') as arquivo:\n",
    "    \n",
    "    for tabela in arquivos:\n",
    "        df = PyPDF2.PdfFileReader(tabela)\n",
    "        df = df.getPage(0)\n",
    "        df = df.extract_text()\n",
    "        df = re.sub('\\n', '_', df)\n",
    "        arquivo.write(str(df) + tabela)\n",
    "        arquivo.write(str(df) + '\\n')"
   ]
  }
 ],
 "metadata": {
  "kernelspec": {
   "display_name": "Python 3.11.0 64-bit",
   "language": "python",
   "name": "python3"
  },
  "language_info": {
   "codemirror_mode": {
    "name": "ipython",
    "version": 3
   },
   "file_extension": ".py",
   "mimetype": "text/x-python",
   "name": "python",
   "nbconvert_exporter": "python",
   "pygments_lexer": "ipython3",
   "version": "3.11.0"
  },
  "orig_nbformat": 4,
  "vscode": {
   "interpreter": {
    "hash": "cd630acd3fbadcb2fe87dabf0c76100e6d1c3d96744d8621a437a4590f09a0f3"
   }
  }
 },
 "nbformat": 4,
 "nbformat_minor": 2
}
